{
 "cells": [
  {
   "cell_type": "code",
   "execution_count": 91,
   "metadata": {},
   "outputs": [],
   "source": [
    "import pandas as pd\n",
    "import numpy as np\n",
    "import warnings\n",
    "warnings.filterwarnings(\"ignore\")\n",
    "import matplotlib.pyplot as plt\n",
    "from tqdm import tqdm"
   ]
  },
  {
   "cell_type": "code",
   "execution_count": 2,
   "metadata": {},
   "outputs": [],
   "source": [
    "df = pd.read_csv(\"Metro_Interstate_Traffic_Volume.csv\")"
   ]
  },
  {
   "cell_type": "code",
   "execution_count": 3,
   "metadata": {},
   "outputs": [
    {
     "data": {
      "text/html": [
       "<div>\n",
       "<style scoped>\n",
       "    .dataframe tbody tr th:only-of-type {\n",
       "        vertical-align: middle;\n",
       "    }\n",
       "\n",
       "    .dataframe tbody tr th {\n",
       "        vertical-align: top;\n",
       "    }\n",
       "\n",
       "    .dataframe thead th {\n",
       "        text-align: right;\n",
       "    }\n",
       "</style>\n",
       "<table border=\"1\" class=\"dataframe\">\n",
       "  <thead>\n",
       "    <tr style=\"text-align: right;\">\n",
       "      <th></th>\n",
       "      <th>holiday</th>\n",
       "      <th>temp</th>\n",
       "      <th>rain_1h</th>\n",
       "      <th>snow_1h</th>\n",
       "      <th>clouds_all</th>\n",
       "      <th>weather_main</th>\n",
       "      <th>weather_description</th>\n",
       "      <th>date_time</th>\n",
       "      <th>traffic_volume</th>\n",
       "    </tr>\n",
       "  </thead>\n",
       "  <tbody>\n",
       "    <tr>\n",
       "      <th>0</th>\n",
       "      <td>None</td>\n",
       "      <td>288.28</td>\n",
       "      <td>0.0</td>\n",
       "      <td>0.0</td>\n",
       "      <td>40</td>\n",
       "      <td>Clouds</td>\n",
       "      <td>scattered clouds</td>\n",
       "      <td>2012-10-02 09:00:00</td>\n",
       "      <td>5545</td>\n",
       "    </tr>\n",
       "    <tr>\n",
       "      <th>1</th>\n",
       "      <td>None</td>\n",
       "      <td>289.36</td>\n",
       "      <td>0.0</td>\n",
       "      <td>0.0</td>\n",
       "      <td>75</td>\n",
       "      <td>Clouds</td>\n",
       "      <td>broken clouds</td>\n",
       "      <td>2012-10-02 10:00:00</td>\n",
       "      <td>4516</td>\n",
       "    </tr>\n",
       "    <tr>\n",
       "      <th>2</th>\n",
       "      <td>None</td>\n",
       "      <td>289.58</td>\n",
       "      <td>0.0</td>\n",
       "      <td>0.0</td>\n",
       "      <td>90</td>\n",
       "      <td>Clouds</td>\n",
       "      <td>overcast clouds</td>\n",
       "      <td>2012-10-02 11:00:00</td>\n",
       "      <td>4767</td>\n",
       "    </tr>\n",
       "    <tr>\n",
       "      <th>3</th>\n",
       "      <td>None</td>\n",
       "      <td>290.13</td>\n",
       "      <td>0.0</td>\n",
       "      <td>0.0</td>\n",
       "      <td>90</td>\n",
       "      <td>Clouds</td>\n",
       "      <td>overcast clouds</td>\n",
       "      <td>2012-10-02 12:00:00</td>\n",
       "      <td>5026</td>\n",
       "    </tr>\n",
       "    <tr>\n",
       "      <th>4</th>\n",
       "      <td>None</td>\n",
       "      <td>291.14</td>\n",
       "      <td>0.0</td>\n",
       "      <td>0.0</td>\n",
       "      <td>75</td>\n",
       "      <td>Clouds</td>\n",
       "      <td>broken clouds</td>\n",
       "      <td>2012-10-02 13:00:00</td>\n",
       "      <td>4918</td>\n",
       "    </tr>\n",
       "  </tbody>\n",
       "</table>\n",
       "</div>"
      ],
      "text/plain": [
       "  holiday    temp  rain_1h  snow_1h  clouds_all weather_main  \\\n",
       "0    None  288.28      0.0      0.0          40       Clouds   \n",
       "1    None  289.36      0.0      0.0          75       Clouds   \n",
       "2    None  289.58      0.0      0.0          90       Clouds   \n",
       "3    None  290.13      0.0      0.0          90       Clouds   \n",
       "4    None  291.14      0.0      0.0          75       Clouds   \n",
       "\n",
       "  weather_description            date_time  traffic_volume  \n",
       "0    scattered clouds  2012-10-02 09:00:00            5545  \n",
       "1       broken clouds  2012-10-02 10:00:00            4516  \n",
       "2     overcast clouds  2012-10-02 11:00:00            4767  \n",
       "3     overcast clouds  2012-10-02 12:00:00            5026  \n",
       "4       broken clouds  2012-10-02 13:00:00            4918  "
      ]
     },
     "execution_count": 3,
     "metadata": {},
     "output_type": "execute_result"
    }
   ],
   "source": [
    "df.head()"
   ]
  },
  {
   "cell_type": "markdown",
   "metadata": {},
   "source": [
    "**Create new features**"
   ]
  },
  {
   "cell_type": "code",
   "execution_count": 5,
   "metadata": {},
   "outputs": [],
   "source": [
    "# Holiday or not ? \n",
    "\n",
    "df[\"holiday_binary\"] = df[\"holiday\"].apply(lambda x: 0 if x==\"None\" else 1)"
   ]
  },
  {
   "cell_type": "code",
   "execution_count": 6,
   "metadata": {},
   "outputs": [],
   "source": [
    "# Convert kelvin temperature to celsius and remove temperatures that under -30 celsius \n",
    "\n",
    "df[\"temp_celsius\"] = df[\"temp\"] - 273.15\n",
    "\n",
    "df = df[~(df[\"temp_celsius\"]<-30)]"
   ]
  },
  {
   "cell_type": "code",
   "execution_count": 8,
   "metadata": {},
   "outputs": [],
   "source": [
    "# Make date_time, index of the dataframe.\n",
    "\n",
    "df[\"date_time\"] = pd.to_datetime(df[\"date_time\"])\n",
    "\n",
    "df.index = df[\"date_time\"]\n",
    "df.index.name = \"\"\n",
    "df.drop(\"date_time\", axis=1, inplace=True)"
   ]
  },
  {
   "cell_type": "code",
   "execution_count": 19,
   "metadata": {},
   "outputs": [],
   "source": [
    "# Create additional time series columns \n",
    "\n",
    "df['hour'] = df.index.hour\n",
    "df['dayofweek'] = df.index.dayofweek\n",
    "df['quarter'] = df.index.quarter\n",
    "df['month'] = df.index.month\n",
    "df['year'] = df.index.year\n",
    "df['dayofyear'] = df.index.dayofyear\n",
    "df['dayofmonth'] = df.index.day\n",
    "df['weekofyear'] = df.index.weekofyear"
   ]
  },
  {
   "cell_type": "code",
   "execution_count": 22,
   "metadata": {},
   "outputs": [],
   "source": [
    "# Creating a new feature work_status it indicates if the hour is a work hour or rest hour.\n",
    "\n",
    "df[\"work_status\"] = df[\"hour\"].apply(lambda x:\"working hour\" if (x>=9 and x<=17) else \"rest hour\")"
   ]
  },
  {
   "cell_type": "code",
   "execution_count": 31,
   "metadata": {},
   "outputs": [
    {
     "data": {
      "image/png": "[encoded data removed]",
      "text/plain": [
       "<Figure size 432x288 with 1 Axes>"
      ]
     },
     "metadata": {
      "needs_background": "light"
     },
     "output_type": "display_data"
    }
   ],
   "source": [
    "plt.bar(df.groupby(\"work_status\")[\"traffic_volume\"].mean().keys(),\n",
    "        df.groupby(\"work_status\")[\"traffic_volume\"].mean().values)\n",
    "plt.ylabel(\"Traffic Volume\")\n",
    "plt.xlabel(\"Hour Status\")\n",
    "plt.title(\"Traffic Depend on Hour Status\")\n",
    "plt.show()"
   ]
  },
  {
   "cell_type": "code",
   "execution_count": 32,
   "metadata": {},
   "outputs": [
    {
     "data": {
      "image/png": "[encoded data removed]",
      "text/plain": [
       "<Figure size 432x288 with 1 Axes>"
      ]
     },
     "metadata": {
      "needs_background": "light"
     },
     "output_type": "display_data"
    }
   ],
   "source": [
    "plt.bar(df.groupby(\"hour\")[\"traffic_volume\"].mean().keys(),\n",
    "        df.groupby(\"hour\")[\"traffic_volume\"].mean().values)\n",
    "plt.ylabel(\"Traffic Volume\")\n",
    "plt.xlabel(\"Hours\")\n",
    "plt.title(\"Traffic Depend on Hours\")\n",
    "plt.show()"
   ]
  },
  {
   "cell_type": "code",
   "execution_count": 33,
   "metadata": {},
   "outputs": [
    {
     "data": {
      "image/png": "[encoded data removed]",
      "text/plain": [
       "<Figure size 432x288 with 1 Axes>"
      ]
     },
     "metadata": {
      "needs_background": "light"
     },
     "output_type": "display_data"
    }
   ],
   "source": [
    "plt.bar(df.groupby(\"quarter\")[\"traffic_volume\"].mean().keys(),\n",
    "        df.groupby(\"quarter\")[\"traffic_volume\"].mean().values)\n",
    "plt.ylabel(\"Traffic Volume\")\n",
    "plt.xlabel(\"Hours\")\n",
    "plt.title(\"Traffic Depend on Quarters\")\n",
    "plt.show()"
   ]
  },
  {
   "cell_type": "code",
   "execution_count": 34,
   "metadata": {},
   "outputs": [
    {
     "data": {
      "text/html": [
       "<div>\n",
       "<style scoped>\n",
       "    .dataframe tbody tr th:only-of-type {\n",
       "        vertical-align: middle;\n",
       "    }\n",
       "\n",
       "    .dataframe tbody tr th {\n",
       "        vertical-align: top;\n",
       "    }\n",
       "\n",
       "    .dataframe thead th {\n",
       "        text-align: right;\n",
       "    }\n",
       "</style>\n",
       "<table border=\"1\" class=\"dataframe\">\n",
       "  <thead>\n",
       "    <tr style=\"text-align: right;\">\n",
       "      <th></th>\n",
       "      <th>holiday</th>\n",
       "      <th>temp</th>\n",
       "      <th>rain_1h</th>\n",
       "      <th>snow_1h</th>\n",
       "      <th>clouds_all</th>\n",
       "      <th>weather_main</th>\n",
       "      <th>weather_description</th>\n",
       "      <th>traffic_volume</th>\n",
       "      <th>holiday_binary</th>\n",
       "      <th>temp_celsius</th>\n",
       "      <th>hour</th>\n",
       "      <th>dayofweek</th>\n",
       "      <th>quarter</th>\n",
       "      <th>month</th>\n",
       "      <th>year</th>\n",
       "      <th>dayofyear</th>\n",
       "      <th>dayofmonth</th>\n",
       "      <th>weekofyear</th>\n",
       "      <th>work_status</th>\n",
       "    </tr>\n",
       "    <tr>\n",
       "      <th></th>\n",
       "      <th></th>\n",
       "      <th></th>\n",
       "      <th></th>\n",
       "      <th></th>\n",
       "      <th></th>\n",
       "      <th></th>\n",
       "      <th></th>\n",
       "      <th></th>\n",
       "      <th></th>\n",
       "      <th></th>\n",
       "      <th></th>\n",
       "      <th></th>\n",
       "      <th></th>\n",
       "      <th></th>\n",
       "      <th></th>\n",
       "      <th></th>\n",
       "      <th></th>\n",
       "      <th></th>\n",
       "      <th></th>\n",
       "    </tr>\n",
       "  </thead>\n",
       "  <tbody>\n",
       "    <tr>\n",
       "      <th>2012-10-02 09:00:00</th>\n",
       "      <td>None</td>\n",
       "      <td>288.28</td>\n",
       "      <td>0.0</td>\n",
       "      <td>0.0</td>\n",
       "      <td>40</td>\n",
       "      <td>Clouds</td>\n",
       "      <td>scattered clouds</td>\n",
       "      <td>5545</td>\n",
       "      <td>0</td>\n",
       "      <td>15.13</td>\n",
       "      <td>9</td>\n",
       "      <td>1</td>\n",
       "      <td>4</td>\n",
       "      <td>10</td>\n",
       "      <td>2012</td>\n",
       "      <td>276</td>\n",
       "      <td>2</td>\n",
       "      <td>40</td>\n",
       "      <td>working hour</td>\n",
       "    </tr>\n",
       "    <tr>\n",
       "      <th>2012-10-02 10:00:00</th>\n",
       "      <td>None</td>\n",
       "      <td>289.36</td>\n",
       "      <td>0.0</td>\n",
       "      <td>0.0</td>\n",
       "      <td>75</td>\n",
       "      <td>Clouds</td>\n",
       "      <td>broken clouds</td>\n",
       "      <td>4516</td>\n",
       "      <td>0</td>\n",
       "      <td>16.21</td>\n",
       "      <td>10</td>\n",
       "      <td>1</td>\n",
       "      <td>4</td>\n",
       "      <td>10</td>\n",
       "      <td>2012</td>\n",
       "      <td>276</td>\n",
       "      <td>2</td>\n",
       "      <td>40</td>\n",
       "      <td>working hour</td>\n",
       "    </tr>\n",
       "    <tr>\n",
       "      <th>2012-10-02 11:00:00</th>\n",
       "      <td>None</td>\n",
       "      <td>289.58</td>\n",
       "      <td>0.0</td>\n",
       "      <td>0.0</td>\n",
       "      <td>90</td>\n",
       "      <td>Clouds</td>\n",
       "      <td>overcast clouds</td>\n",
       "      <td>4767</td>\n",
       "      <td>0</td>\n",
       "      <td>16.43</td>\n",
       "      <td>11</td>\n",
       "      <td>1</td>\n",
       "      <td>4</td>\n",
       "      <td>10</td>\n",
       "      <td>2012</td>\n",
       "      <td>276</td>\n",
       "      <td>2</td>\n",
       "      <td>40</td>\n",
       "      <td>working hour</td>\n",
       "    </tr>\n",
       "    <tr>\n",
       "      <th>2012-10-02 12:00:00</th>\n",
       "      <td>None</td>\n",
       "      <td>290.13</td>\n",
       "      <td>0.0</td>\n",
       "      <td>0.0</td>\n",
       "      <td>90</td>\n",
       "      <td>Clouds</td>\n",
       "      <td>overcast clouds</td>\n",
       "      <td>5026</td>\n",
       "      <td>0</td>\n",
       "      <td>16.98</td>\n",
       "      <td>12</td>\n",
       "      <td>1</td>\n",
       "      <td>4</td>\n",
       "      <td>10</td>\n",
       "      <td>2012</td>\n",
       "      <td>276</td>\n",
       "      <td>2</td>\n",
       "      <td>40</td>\n",
       "      <td>working hour</td>\n",
       "    </tr>\n",
       "    <tr>\n",
       "      <th>2012-10-02 13:00:00</th>\n",
       "      <td>None</td>\n",
       "      <td>291.14</td>\n",
       "      <td>0.0</td>\n",
       "      <td>0.0</td>\n",
       "      <td>75</td>\n",
       "      <td>Clouds</td>\n",
       "      <td>broken clouds</td>\n",
       "      <td>4918</td>\n",
       "      <td>0</td>\n",
       "      <td>17.99</td>\n",
       "      <td>13</td>\n",
       "      <td>1</td>\n",
       "      <td>4</td>\n",
       "      <td>10</td>\n",
       "      <td>2012</td>\n",
       "      <td>276</td>\n",
       "      <td>2</td>\n",
       "      <td>40</td>\n",
       "      <td>working hour</td>\n",
       "    </tr>\n",
       "  </tbody>\n",
       "</table>\n",
       "</div>"
      ],
      "text/plain": [
       "                    holiday    temp  rain_1h  snow_1h  clouds_all  \\\n",
       "                                                                    \n",
       "2012-10-02 09:00:00    None  288.28      0.0      0.0          40   \n",
       "2012-10-02 10:00:00    None  289.36      0.0      0.0          75   \n",
       "2012-10-02 11:00:00    None  289.58      0.0      0.0          90   \n",
       "2012-10-02 12:00:00    None  290.13      0.0      0.0          90   \n",
       "2012-10-02 13:00:00    None  291.14      0.0      0.0          75   \n",
       "\n",
       "                    weather_main weather_description  traffic_volume  \\\n",
       "                                                                       \n",
       "2012-10-02 09:00:00       Clouds    scattered clouds            5545   \n",
       "2012-10-02 10:00:00       Clouds       broken clouds            4516   \n",
       "2012-10-02 11:00:00       Clouds     overcast clouds            4767   \n",
       "2012-10-02 12:00:00       Clouds     overcast clouds            5026   \n",
       "2012-10-02 13:00:00       Clouds       broken clouds            4918   \n",
       "\n",
       "                     holiday_binary  temp_celsius  hour  dayofweek  quarter  \\\n",
       "                                                                              \n",
       "2012-10-02 09:00:00               0         15.13     9          1        4   \n",
       "2012-10-02 10:00:00               0         16.21    10          1        4   \n",
       "2012-10-02 11:00:00               0         16.43    11          1        4   \n",
       "2012-10-02 12:00:00               0         16.98    12          1        4   \n",
       "2012-10-02 13:00:00               0         17.99    13          1        4   \n",
       "\n",
       "                     month  year  dayofyear  dayofmonth  weekofyear  \\\n",
       "                                                                      \n",
       "2012-10-02 09:00:00     10  2012        276           2          40   \n",
       "2012-10-02 10:00:00     10  2012        276           2          40   \n",
       "2012-10-02 11:00:00     10  2012        276           2          40   \n",
       "2012-10-02 12:00:00     10  2012        276           2          40   \n",
       "2012-10-02 13:00:00     10  2012        276           2          40   \n",
       "\n",
       "                      work_status  \n",
       "                                   \n",
       "2012-10-02 09:00:00  working hour  \n",
       "2012-10-02 10:00:00  working hour  \n",
       "2012-10-02 11:00:00  working hour  \n",
       "2012-10-02 12:00:00  working hour  \n",
       "2012-10-02 13:00:00  working hour  "
      ]
     },
     "execution_count": 34,
     "metadata": {},
     "output_type": "execute_result"
    }
   ],
   "source": [
    "df.head()"
   ]
  },
  {
   "cell_type": "markdown",
   "metadata": {},
   "source": [
    "**Encoding and normalization**"
   ]
  },
  {
   "cell_type": "code",
   "execution_count": 35,
   "metadata": {},
   "outputs": [],
   "source": [
    "from sklearn.preprocessing import LabelEncoder"
   ]
  },
  {
   "cell_type": "code",
   "execution_count": 36,
   "metadata": {},
   "outputs": [],
   "source": [
    "label_enc = LabelEncoder()"
   ]
  },
  {
   "cell_type": "code",
   "execution_count": 41,
   "metadata": {},
   "outputs": [],
   "source": [
    "for col in [\"holiday\",\"weather_main\",\"weather_description\",\"work_status\"]:\n",
    "    df[col] = label_enc.fit_transform(df[col])"
   ]
  },
  {
   "cell_type": "code",
   "execution_count": 42,
   "metadata": {},
   "outputs": [],
   "source": [
    "for col in [\"temp\",\"rain_1h\",\"snow_1h\",\"clouds_all\",\"temp_celsius\"]:\n",
    "    df[col] = (df[col]-df[col].min())/(df[col].max()-df[col].min())"
   ]
  },
  {
   "cell_type": "code",
   "execution_count": 43,
   "metadata": {},
   "outputs": [
    {
     "data": {
      "text/html": [
       "<div>\n",
       "<style scoped>\n",
       "    .dataframe tbody tr th:only-of-type {\n",
       "        vertical-align: middle;\n",
       "    }\n",
       "\n",
       "    .dataframe tbody tr th {\n",
       "        vertical-align: top;\n",
       "    }\n",
       "\n",
       "    .dataframe thead th {\n",
       "        text-align: right;\n",
       "    }\n",
       "</style>\n",
       "<table border=\"1\" class=\"dataframe\">\n",
       "  <thead>\n",
       "    <tr style=\"text-align: right;\">\n",
       "      <th></th>\n",
       "      <th>holiday</th>\n",
       "      <th>temp</th>\n",
       "      <th>rain_1h</th>\n",
       "      <th>snow_1h</th>\n",
       "      <th>clouds_all</th>\n",
       "      <th>weather_main</th>\n",
       "      <th>weather_description</th>\n",
       "      <th>traffic_volume</th>\n",
       "      <th>holiday_binary</th>\n",
       "      <th>temp_celsius</th>\n",
       "      <th>hour</th>\n",
       "      <th>dayofweek</th>\n",
       "      <th>quarter</th>\n",
       "      <th>month</th>\n",
       "      <th>year</th>\n",
       "      <th>dayofyear</th>\n",
       "      <th>dayofmonth</th>\n",
       "      <th>weekofyear</th>\n",
       "      <th>work_status</th>\n",
       "    </tr>\n",
       "    <tr>\n",
       "      <th></th>\n",
       "      <th></th>\n",
       "      <th></th>\n",
       "      <th></th>\n",
       "      <th></th>\n",
       "      <th></th>\n",
       "      <th></th>\n",
       "      <th></th>\n",
       "      <th></th>\n",
       "      <th></th>\n",
       "      <th></th>\n",
       "      <th></th>\n",
       "      <th></th>\n",
       "      <th></th>\n",
       "      <th></th>\n",
       "      <th></th>\n",
       "      <th></th>\n",
       "      <th></th>\n",
       "      <th></th>\n",
       "      <th></th>\n",
       "    </tr>\n",
       "  </thead>\n",
       "  <tbody>\n",
       "    <tr>\n",
       "      <th>2012-10-02 09:00:00</th>\n",
       "      <td>7</td>\n",
       "      <td>0.673215</td>\n",
       "      <td>0.0</td>\n",
       "      <td>0.0</td>\n",
       "      <td>0.40</td>\n",
       "      <td>1</td>\n",
       "      <td>24</td>\n",
       "      <td>5545</td>\n",
       "      <td>0</td>\n",
       "      <td>0.673215</td>\n",
       "      <td>9</td>\n",
       "      <td>1</td>\n",
       "      <td>4</td>\n",
       "      <td>10</td>\n",
       "      <td>2012</td>\n",
       "      <td>276</td>\n",
       "      <td>2</td>\n",
       "      <td>40</td>\n",
       "      <td>1</td>\n",
       "    </tr>\n",
       "    <tr>\n",
       "      <th>2012-10-02 10:00:00</th>\n",
       "      <td>7</td>\n",
       "      <td>0.689412</td>\n",
       "      <td>0.0</td>\n",
       "      <td>0.0</td>\n",
       "      <td>0.75</td>\n",
       "      <td>1</td>\n",
       "      <td>2</td>\n",
       "      <td>4516</td>\n",
       "      <td>0</td>\n",
       "      <td>0.689412</td>\n",
       "      <td>10</td>\n",
       "      <td>1</td>\n",
       "      <td>4</td>\n",
       "      <td>10</td>\n",
       "      <td>2012</td>\n",
       "      <td>276</td>\n",
       "      <td>2</td>\n",
       "      <td>40</td>\n",
       "      <td>1</td>\n",
       "    </tr>\n",
       "    <tr>\n",
       "      <th>2012-10-02 11:00:00</th>\n",
       "      <td>7</td>\n",
       "      <td>0.692711</td>\n",
       "      <td>0.0</td>\n",
       "      <td>0.0</td>\n",
       "      <td>0.90</td>\n",
       "      <td>1</td>\n",
       "      <td>19</td>\n",
       "      <td>4767</td>\n",
       "      <td>0</td>\n",
       "      <td>0.692711</td>\n",
       "      <td>11</td>\n",
       "      <td>1</td>\n",
       "      <td>4</td>\n",
       "      <td>10</td>\n",
       "      <td>2012</td>\n",
       "      <td>276</td>\n",
       "      <td>2</td>\n",
       "      <td>40</td>\n",
       "      <td>1</td>\n",
       "    </tr>\n",
       "    <tr>\n",
       "      <th>2012-10-02 12:00:00</th>\n",
       "      <td>7</td>\n",
       "      <td>0.700960</td>\n",
       "      <td>0.0</td>\n",
       "      <td>0.0</td>\n",
       "      <td>0.90</td>\n",
       "      <td>1</td>\n",
       "      <td>19</td>\n",
       "      <td>5026</td>\n",
       "      <td>0</td>\n",
       "      <td>0.700960</td>\n",
       "      <td>12</td>\n",
       "      <td>1</td>\n",
       "      <td>4</td>\n",
       "      <td>10</td>\n",
       "      <td>2012</td>\n",
       "      <td>276</td>\n",
       "      <td>2</td>\n",
       "      <td>40</td>\n",
       "      <td>1</td>\n",
       "    </tr>\n",
       "    <tr>\n",
       "      <th>2012-10-02 13:00:00</th>\n",
       "      <td>7</td>\n",
       "      <td>0.716107</td>\n",
       "      <td>0.0</td>\n",
       "      <td>0.0</td>\n",
       "      <td>0.75</td>\n",
       "      <td>1</td>\n",
       "      <td>2</td>\n",
       "      <td>4918</td>\n",
       "      <td>0</td>\n",
       "      <td>0.716107</td>\n",
       "      <td>13</td>\n",
       "      <td>1</td>\n",
       "      <td>4</td>\n",
       "      <td>10</td>\n",
       "      <td>2012</td>\n",
       "      <td>276</td>\n",
       "      <td>2</td>\n",
       "      <td>40</td>\n",
       "      <td>1</td>\n",
       "    </tr>\n",
       "  </tbody>\n",
       "</table>\n",
       "</div>"
      ],
      "text/plain": [
       "                     holiday      temp  rain_1h  snow_1h  clouds_all  \\\n",
       "                                                                       \n",
       "2012-10-02 09:00:00        7  0.673215      0.0      0.0        0.40   \n",
       "2012-10-02 10:00:00        7  0.689412      0.0      0.0        0.75   \n",
       "2012-10-02 11:00:00        7  0.692711      0.0      0.0        0.90   \n",
       "2012-10-02 12:00:00        7  0.700960      0.0      0.0        0.90   \n",
       "2012-10-02 13:00:00        7  0.716107      0.0      0.0        0.75   \n",
       "\n",
       "                     weather_main  weather_description  traffic_volume  \\\n",
       "                                                                         \n",
       "2012-10-02 09:00:00             1                   24            5545   \n",
       "2012-10-02 10:00:00             1                    2            4516   \n",
       "2012-10-02 11:00:00             1                   19            4767   \n",
       "2012-10-02 12:00:00             1                   19            5026   \n",
       "2012-10-02 13:00:00             1                    2            4918   \n",
       "\n",
       "                     holiday_binary  temp_celsius  hour  dayofweek  quarter  \\\n",
       "                                                                              \n",
       "2012-10-02 09:00:00               0      0.673215     9          1        4   \n",
       "2012-10-02 10:00:00               0      0.689412    10          1        4   \n",
       "2012-10-02 11:00:00               0      0.692711    11          1        4   \n",
       "2012-10-02 12:00:00               0      0.700960    12          1        4   \n",
       "2012-10-02 13:00:00               0      0.716107    13          1        4   \n",
       "\n",
       "                     month  year  dayofyear  dayofmonth  weekofyear  \\\n",
       "                                                                      \n",
       "2012-10-02 09:00:00     10  2012        276           2          40   \n",
       "2012-10-02 10:00:00     10  2012        276           2          40   \n",
       "2012-10-02 11:00:00     10  2012        276           2          40   \n",
       "2012-10-02 12:00:00     10  2012        276           2          40   \n",
       "2012-10-02 13:00:00     10  2012        276           2          40   \n",
       "\n",
       "                     work_status  \n",
       "                                  \n",
       "2012-10-02 09:00:00            1  \n",
       "2012-10-02 10:00:00            1  \n",
       "2012-10-02 11:00:00            1  \n",
       "2012-10-02 12:00:00            1  \n",
       "2012-10-02 13:00:00            1  "
      ]
     },
     "execution_count": 43,
     "metadata": {},
     "output_type": "execute_result"
    }
   ],
   "source": [
    "df.head()"
   ]
  },
  {
   "cell_type": "code",
   "execution_count": 60,
   "metadata": {},
   "outputs": [
    {
     "data": {
      "text/plain": [
       "\n",
       "2012-10-02 09:00:00    0.0\n",
       "2012-10-02 10:00:00    0.0\n",
       "2012-10-02 11:00:00    0.0\n",
       "2012-10-02 12:00:00    0.0\n",
       "2012-10-02 13:00:00    0.0\n",
       "2012-10-02 14:00:00    0.0\n",
       "2012-10-02 15:00:00    0.0\n",
       "2012-10-02 16:00:00    0.0\n",
       "2012-10-02 17:00:00    0.0\n",
       "2012-10-02 18:00:00    0.0\n",
       "2012-10-02 19:00:00    0.0\n",
       "2012-10-02 20:00:00    0.0\n",
       "2012-10-02 21:00:00    0.0\n",
       "2012-10-02 22:00:00    0.0\n",
       "2012-10-02 23:00:00    0.0\n",
       "Name: rain_1h, dtype: float64"
      ]
     },
     "execution_count": 60,
     "metadata": {},
     "output_type": "execute_result"
    }
   ],
   "source": [
    "df[\"2012-10-02\"][\"rain_1h\"].cumsum()"
   ]
  },
  {
   "cell_type": "code",
   "execution_count": 67,
   "metadata": {},
   "outputs": [],
   "source": [
    "days = [pd.to_datetime(str(i)[:10]) for i in df.index]"
   ]
  },
  {
   "cell_type": "code",
   "execution_count": 71,
   "metadata": {},
   "outputs": [],
   "source": [
    "days = sorted(set(days))"
   ]
  },
  {
   "cell_type": "code",
   "execution_count": 92,
   "metadata": {},
   "outputs": [
    {
     "name": "stderr",
     "output_type": "stream",
     "text": [
      "100%|██████████| 1860/1860 [00:28<00:00, 66.13it/s]\n"
     ]
    }
   ],
   "source": [
    "for date in tqdm(days):\n",
    "    temporary = (df.index.day==date.day) & (df.index.month==date.month) & (df.index.year==date.year)\n",
    "    df.loc[temporary,\"rain_1h_cumsum\"] = df[temporary][\"rain_1h\"].cumsum().values\n",
    "    df.loc[temporary,\"snow_1h_cumsum\"] = df[temporary][\"snow_1h\"].cumsum().values"
   ]
  },
  {
   "cell_type": "code",
   "execution_count": 96,
   "metadata": {},
   "outputs": [],
   "source": [
    "for col in [\"rain_1h_cumsum\",\"snow_1h_cumsum\"]:\n",
    "    df[col] = (df[col]-df[col].min())/(df[col].max()-df[col].min())"
   ]
  },
  {
   "cell_type": "code",
   "execution_count": 101,
   "metadata": {},
   "outputs": [
    {
     "data": {
      "text/html": [
       "<div>\n",
       "<style scoped>\n",
       "    .dataframe tbody tr th:only-of-type {\n",
       "        vertical-align: middle;\n",
       "    }\n",
       "\n",
       "    .dataframe tbody tr th {\n",
       "        vertical-align: top;\n",
       "    }\n",
       "\n",
       "    .dataframe thead th {\n",
       "        text-align: right;\n",
       "    }\n",
       "</style>\n",
       "<table border=\"1\" class=\"dataframe\">\n",
       "  <thead>\n",
       "    <tr style=\"text-align: right;\">\n",
       "      <th></th>\n",
       "      <th>holiday</th>\n",
       "      <th>temp</th>\n",
       "      <th>rain_1h</th>\n",
       "      <th>snow_1h</th>\n",
       "      <th>clouds_all</th>\n",
       "      <th>weather_main</th>\n",
       "      <th>weather_description</th>\n",
       "      <th>traffic_volume</th>\n",
       "      <th>holiday_binary</th>\n",
       "      <th>temp_celsius</th>\n",
       "      <th>...</th>\n",
       "      <th>dayofweek</th>\n",
       "      <th>quarter</th>\n",
       "      <th>month</th>\n",
       "      <th>year</th>\n",
       "      <th>dayofyear</th>\n",
       "      <th>dayofmonth</th>\n",
       "      <th>weekofyear</th>\n",
       "      <th>work_status</th>\n",
       "      <th>rain_1h_cumsum</th>\n",
       "      <th>snow_1h_cumsum</th>\n",
       "    </tr>\n",
       "    <tr>\n",
       "      <th></th>\n",
       "      <th></th>\n",
       "      <th></th>\n",
       "      <th></th>\n",
       "      <th></th>\n",
       "      <th></th>\n",
       "      <th></th>\n",
       "      <th></th>\n",
       "      <th></th>\n",
       "      <th></th>\n",
       "      <th></th>\n",
       "      <th></th>\n",
       "      <th></th>\n",
       "      <th></th>\n",
       "      <th></th>\n",
       "      <th></th>\n",
       "      <th></th>\n",
       "      <th></th>\n",
       "      <th></th>\n",
       "      <th></th>\n",
       "      <th></th>\n",
       "      <th></th>\n",
       "    </tr>\n",
       "  </thead>\n",
       "  <tbody>\n",
       "    <tr>\n",
       "      <th>2012-10-02 09:00:00</th>\n",
       "      <td>7</td>\n",
       "      <td>0.673215</td>\n",
       "      <td>0.0</td>\n",
       "      <td>0.0</td>\n",
       "      <td>0.40</td>\n",
       "      <td>1</td>\n",
       "      <td>24</td>\n",
       "      <td>5545</td>\n",
       "      <td>0</td>\n",
       "      <td>0.673215</td>\n",
       "      <td>...</td>\n",
       "      <td>1</td>\n",
       "      <td>4</td>\n",
       "      <td>10</td>\n",
       "      <td>2012</td>\n",
       "      <td>276</td>\n",
       "      <td>2</td>\n",
       "      <td>40</td>\n",
       "      <td>1</td>\n",
       "      <td>0.0</td>\n",
       "      <td>0.0</td>\n",
       "    </tr>\n",
       "    <tr>\n",
       "      <th>2012-10-02 10:00:00</th>\n",
       "      <td>7</td>\n",
       "      <td>0.689412</td>\n",
       "      <td>0.0</td>\n",
       "      <td>0.0</td>\n",
       "      <td>0.75</td>\n",
       "      <td>1</td>\n",
       "      <td>2</td>\n",
       "      <td>4516</td>\n",
       "      <td>0</td>\n",
       "      <td>0.689412</td>\n",
       "      <td>...</td>\n",
       "      <td>1</td>\n",
       "      <td>4</td>\n",
       "      <td>10</td>\n",
       "      <td>2012</td>\n",
       "      <td>276</td>\n",
       "      <td>2</td>\n",
       "      <td>40</td>\n",
       "      <td>1</td>\n",
       "      <td>0.0</td>\n",
       "      <td>0.0</td>\n",
       "    </tr>\n",
       "    <tr>\n",
       "      <th>2012-10-02 11:00:00</th>\n",
       "      <td>7</td>\n",
       "      <td>0.692711</td>\n",
       "      <td>0.0</td>\n",
       "      <td>0.0</td>\n",
       "      <td>0.90</td>\n",
       "      <td>1</td>\n",
       "      <td>19</td>\n",
       "      <td>4767</td>\n",
       "      <td>0</td>\n",
       "      <td>0.692711</td>\n",
       "      <td>...</td>\n",
       "      <td>1</td>\n",
       "      <td>4</td>\n",
       "      <td>10</td>\n",
       "      <td>2012</td>\n",
       "      <td>276</td>\n",
       "      <td>2</td>\n",
       "      <td>40</td>\n",
       "      <td>1</td>\n",
       "      <td>0.0</td>\n",
       "      <td>0.0</td>\n",
       "    </tr>\n",
       "    <tr>\n",
       "      <th>2012-10-02 12:00:00</th>\n",
       "      <td>7</td>\n",
       "      <td>0.700960</td>\n",
       "      <td>0.0</td>\n",
       "      <td>0.0</td>\n",
       "      <td>0.90</td>\n",
       "      <td>1</td>\n",
       "      <td>19</td>\n",
       "      <td>5026</td>\n",
       "      <td>0</td>\n",
       "      <td>0.700960</td>\n",
       "      <td>...</td>\n",
       "      <td>1</td>\n",
       "      <td>4</td>\n",
       "      <td>10</td>\n",
       "      <td>2012</td>\n",
       "      <td>276</td>\n",
       "      <td>2</td>\n",
       "      <td>40</td>\n",
       "      <td>1</td>\n",
       "      <td>0.0</td>\n",
       "      <td>0.0</td>\n",
       "    </tr>\n",
       "    <tr>\n",
       "      <th>2012-10-02 13:00:00</th>\n",
       "      <td>7</td>\n",
       "      <td>0.716107</td>\n",
       "      <td>0.0</td>\n",
       "      <td>0.0</td>\n",
       "      <td>0.75</td>\n",
       "      <td>1</td>\n",
       "      <td>2</td>\n",
       "      <td>4918</td>\n",
       "      <td>0</td>\n",
       "      <td>0.716107</td>\n",
       "      <td>...</td>\n",
       "      <td>1</td>\n",
       "      <td>4</td>\n",
       "      <td>10</td>\n",
       "      <td>2012</td>\n",
       "      <td>276</td>\n",
       "      <td>2</td>\n",
       "      <td>40</td>\n",
       "      <td>1</td>\n",
       "      <td>0.0</td>\n",
       "      <td>0.0</td>\n",
       "    </tr>\n",
       "  </tbody>\n",
       "</table>\n",
       "<p>5 rows × 21 columns</p>\n",
       "</div>"
      ],
      "text/plain": [
       "                     holiday      temp  rain_1h  snow_1h  clouds_all  \\\n",
       "                                                                       \n",
       "2012-10-02 09:00:00        7  0.673215      0.0      0.0        0.40   \n",
       "2012-10-02 10:00:00        7  0.689412      0.0      0.0        0.75   \n",
       "2012-10-02 11:00:00        7  0.692711      0.0      0.0        0.90   \n",
       "2012-10-02 12:00:00        7  0.700960      0.0      0.0        0.90   \n",
       "2012-10-02 13:00:00        7  0.716107      0.0      0.0        0.75   \n",
       "\n",
       "                     weather_main  weather_description  traffic_volume  \\\n",
       "                                                                         \n",
       "2012-10-02 09:00:00             1                   24            5545   \n",
       "2012-10-02 10:00:00             1                    2            4516   \n",
       "2012-10-02 11:00:00             1                   19            4767   \n",
       "2012-10-02 12:00:00             1                   19            5026   \n",
       "2012-10-02 13:00:00             1                    2            4918   \n",
       "\n",
       "                     holiday_binary  temp_celsius  ...  dayofweek  quarter  \\\n",
       "                                                   ...                       \n",
       "2012-10-02 09:00:00               0      0.673215  ...          1        4   \n",
       "2012-10-02 10:00:00               0      0.689412  ...          1        4   \n",
       "2012-10-02 11:00:00               0      0.692711  ...          1        4   \n",
       "2012-10-02 12:00:00               0      0.700960  ...          1        4   \n",
       "2012-10-02 13:00:00               0      0.716107  ...          1        4   \n",
       "\n",
       "                     month  year  dayofyear  dayofmonth  weekofyear  \\\n",
       "                                                                      \n",
       "2012-10-02 09:00:00     10  2012        276           2          40   \n",
       "2012-10-02 10:00:00     10  2012        276           2          40   \n",
       "2012-10-02 11:00:00     10  2012        276           2          40   \n",
       "2012-10-02 12:00:00     10  2012        276           2          40   \n",
       "2012-10-02 13:00:00     10  2012        276           2          40   \n",
       "\n",
       "                     work_status  rain_1h_cumsum  snow_1h_cumsum  \n",
       "                                                                  \n",
       "2012-10-02 09:00:00            1             0.0             0.0  \n",
       "2012-10-02 10:00:00            1             0.0             0.0  \n",
       "2012-10-02 11:00:00            1             0.0             0.0  \n",
       "2012-10-02 12:00:00            1             0.0             0.0  \n",
       "2012-10-02 13:00:00            1             0.0             0.0  \n",
       "\n",
       "[5 rows x 21 columns]"
      ]
     },
     "execution_count": 101,
     "metadata": {},
     "output_type": "execute_result"
    }
   ],
   "source": [
    "df.head()"
   ]
  },
  {
   "cell_type": "markdown",
   "metadata": {},
   "source": [
    "**Feature Selection**"
   ]
  },
  {
   "cell_type": "code",
   "execution_count": 102,
   "metadata": {},
   "outputs": [
    {
     "data": {
      "text/plain": [
       "temp              0.132291\n",
       "traffic_volume    1.000000\n",
       "temp_celsius      0.132291\n",
       "hour              0.352289\n",
       "dayofweek        -0.149329\n",
       "work_status       0.607019\n",
       "Name: traffic_volume, dtype: float64"
      ]
     },
     "execution_count": 102,
     "metadata": {},
     "output_type": "execute_result"
    }
   ],
   "source": [
    "# Pearson Correlation\n",
    "\n",
    "corr = df.corr()\n",
    "corr[corr[\"traffic_volume\"].abs()>corr[\"traffic_volume\"].abs().mean()][\"traffic_volume\"]"
   ]
  },
  {
   "cell_type": "code",
   "execution_count": 103,
   "metadata": {},
   "outputs": [
    {
     "data": {
      "text/plain": [
       "temp              0.132589\n",
       "traffic_volume    1.000000\n",
       "temp_celsius      0.132589\n",
       "hour              0.343992\n",
       "dayofweek        -0.151154\n",
       "work_status       0.594191\n",
       "Name: traffic_volume, dtype: float64"
      ]
     },
     "execution_count": 103,
     "metadata": {},
     "output_type": "execute_result"
    }
   ],
   "source": [
    "# Spearman Correlation\n",
    "\n",
    "corr = df.corr(\"spearman\")\n",
    "corr[corr[\"traffic_volume\"].abs()>corr[\"traffic_volume\"].abs().mean()][\"traffic_volume\"]"
   ]
  },
  {
   "cell_type": "code",
   "execution_count": 105,
   "metadata": {},
   "outputs": [],
   "source": [
    "# Recursive Feature Elimination\n",
    "\n",
    "# https://www.kaggle.com/carlmcbrideellis/recursive-feature-elimination-rfe-example\n",
    "\n",
    "from sklearn.feature_selection import RFE\n",
    "import lightgbm"
   ]
  },
  {
   "cell_type": "code",
   "execution_count": 114,
   "metadata": {},
   "outputs": [],
   "source": [
    "train_size = int(df.shape[0]*0.8)\n",
    "\n",
    "X_train = df[:train_size].drop(\"traffic_volume\", axis=1)\n",
    "y_train = df[:train_size][\"traffic_volume\"]\n",
    "X_test = df[train_size:].drop(\"traffic_volume\", axis=1)\n",
    "y_test = df[train_size:][\"traffic_volume\"]"
   ]
  },
  {
   "cell_type": "code",
   "execution_count": 115,
   "metadata": {},
   "outputs": [
    {
     "data": {
      "text/plain": [
       "RFE(estimator=LGBMRegressor(), n_features_to_select=8)"
      ]
     },
     "execution_count": 115,
     "metadata": {},
     "output_type": "execute_result"
    }
   ],
   "source": [
    "regressor = lightgbm.LGBMRegressor()\n",
    "\n",
    "n_features_to_select = 8\n",
    "rfe = RFE(regressor, n_features_to_select=n_features_to_select)\n",
    "rfe.fit(X_train, y_train)"
   ]
  },
  {
   "cell_type": "code",
   "execution_count": 123,
   "metadata": {},
   "outputs": [
    {
     "name": "stdout",
     "output_type": "stream",
     "text": [
      "8 holiday\n",
      "12 snow_1h\n",
      "5 weather_main\n",
      "6 weather_description\n",
      "11 holiday_binary\n",
      "13 temp_celsius\n",
      "9 quarter\n",
      "7 work_status\n",
      "10 snow_1h_cumsum\n"
     ]
    }
   ],
   "source": [
    "for rank, name in zip(rfe.ranking_, rfe.feature_names_in_):\n",
    "    if rank>rfe.ranking_.mean():\n",
    "        print(rank, name)"
   ]
  },
  {
   "cell_type": "code",
   "execution_count": 124,
   "metadata": {},
   "outputs": [],
   "source": [
    "features = [\"holiday\", \"snow_1h\", \"weather_main\", \"weather_description\", \"holiday_binary\", \n",
    "           \"temp_celsius\", \"quarter\", \"work_status\", \"snow_1h_cumsum\"]"
   ]
  },
  {
   "cell_type": "code",
   "execution_count": 125,
   "metadata": {},
   "outputs": [
    {
     "data": {
      "text/plain": [
       "LGBMRegressor()"
      ]
     },
     "execution_count": 125,
     "metadata": {},
     "output_type": "execute_result"
    }
   ],
   "source": [
    "regressor.fit(X_train[features], y_train)"
   ]
  },
  {
   "cell_type": "code",
   "execution_count": 126,
   "metadata": {},
   "outputs": [],
   "source": [
    "from sklearn.metrics import mean_absolute_error, mean_squared_error, r2_score"
   ]
  },
  {
   "cell_type": "code",
   "execution_count": 127,
   "metadata": {},
   "outputs": [],
   "source": [
    "preds = regressor.predict(X_test[features])\n",
    "\n",
    "mae_score = mean_absolute_error(y_test, preds)\n",
    "rmse_score = np.sqrt(mean_squared_error(y_test, preds))\n",
    "r2 = r2_score(y_test, preds)"
   ]
  },
  {
   "cell_type": "code",
   "execution_count": 128,
   "metadata": {},
   "outputs": [
    {
     "name": "stdout",
     "output_type": "stream",
     "text": [
      "MAE Score = 1198.0346264870768\n",
      "RMSE Score = 1546.7630680323798\n",
      "R2 Score = 0.3821821953152065\n"
     ]
    }
   ],
   "source": [
    "print(f\"MAE Score = {mae_score}\\nRMSE Score = {rmse_score}\\nR2 Score = {r2}\")"
   ]
  },
  {
   "cell_type": "code",
   "execution_count": 132,
   "metadata": {},
   "outputs": [],
   "source": [
    "# df_feat_eng = df[features+[\"traffic_volume\"]].copy()\n",
    "# df_feat_eng.to_csv(\"df_feat_eng.csv\")"
   ]
  },
  {
   "cell_type": "code",
   "execution_count": null,
   "metadata": {},
   "outputs": [],
   "source": []
  }
 ],
 "metadata": {
  "kernelspec": {
   "display_name": "Python 3",
   "language": "python",
   "name": "python3"
  },
  "language_info": {
   "codemirror_mode": {
    "name": "ipython",
    "version": 3
   },
   "file_extension": ".py",
   "mimetype": "text/x-python",
   "name": "python",
   "nbconvert_exporter": "python",
   "pygments_lexer": "ipython3",
   "version": "3.8.10"
  }
 },
 "nbformat": 4,
 "nbformat_minor": 4
}
