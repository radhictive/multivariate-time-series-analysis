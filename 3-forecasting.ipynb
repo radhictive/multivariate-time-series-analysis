{
 "cells": [
  {
   "cell_type": "code",
   "execution_count": 32,
   "metadata": {},
   "outputs": [],
   "source": [
    "import pandas as pd\n",
    "import numpy as np\n",
    "import matplotlib.pyplot as plt"
   ]
  },
  {
   "cell_type": "code",
   "execution_count": 12,
   "metadata": {},
   "outputs": [],
   "source": [
    "df = pd.read_csv(\"df_feat_eng.csv\", index_col=0, parse_dates=[0])"
   ]
  },
  {
   "cell_type": "code",
   "execution_count": 13,
   "metadata": {},
   "outputs": [
    {
     "data": {
      "text/html": [
       "<div>\n",
       "<style scoped>\n",
       "    .dataframe tbody tr th:only-of-type {\n",
       "        vertical-align: middle;\n",
       "    }\n",
       "\n",
       "    .dataframe tbody tr th {\n",
       "        vertical-align: top;\n",
       "    }\n",
       "\n",
       "    .dataframe thead th {\n",
       "        text-align: right;\n",
       "    }\n",
       "</style>\n",
       "<table border=\"1\" class=\"dataframe\">\n",
       "  <thead>\n",
       "    <tr style=\"text-align: right;\">\n",
       "      <th></th>\n",
       "      <th>holiday</th>\n",
       "      <th>snow_1h</th>\n",
       "      <th>weather_main</th>\n",
       "      <th>weather_description</th>\n",
       "      <th>holiday_binary</th>\n",
       "      <th>temp_celsius</th>\n",
       "      <th>quarter</th>\n",
       "      <th>work_status</th>\n",
       "      <th>snow_1h_cumsum</th>\n",
       "      <th>traffic_volume</th>\n",
       "    </tr>\n",
       "  </thead>\n",
       "  <tbody>\n",
       "    <tr>\n",
       "      <th>2012-10-02 09:00:00</th>\n",
       "      <td>7</td>\n",
       "      <td>0.0</td>\n",
       "      <td>1</td>\n",
       "      <td>24</td>\n",
       "      <td>0</td>\n",
       "      <td>0.673215</td>\n",
       "      <td>4</td>\n",
       "      <td>1</td>\n",
       "      <td>0.0</td>\n",
       "      <td>5545</td>\n",
       "    </tr>\n",
       "    <tr>\n",
       "      <th>2012-10-02 10:00:00</th>\n",
       "      <td>7</td>\n",
       "      <td>0.0</td>\n",
       "      <td>1</td>\n",
       "      <td>2</td>\n",
       "      <td>0</td>\n",
       "      <td>0.689412</td>\n",
       "      <td>4</td>\n",
       "      <td>1</td>\n",
       "      <td>0.0</td>\n",
       "      <td>4516</td>\n",
       "    </tr>\n",
       "    <tr>\n",
       "      <th>2012-10-02 11:00:00</th>\n",
       "      <td>7</td>\n",
       "      <td>0.0</td>\n",
       "      <td>1</td>\n",
       "      <td>19</td>\n",
       "      <td>0</td>\n",
       "      <td>0.692711</td>\n",
       "      <td>4</td>\n",
       "      <td>1</td>\n",
       "      <td>0.0</td>\n",
       "      <td>4767</td>\n",
       "    </tr>\n",
       "    <tr>\n",
       "      <th>2012-10-02 12:00:00</th>\n",
       "      <td>7</td>\n",
       "      <td>0.0</td>\n",
       "      <td>1</td>\n",
       "      <td>19</td>\n",
       "      <td>0</td>\n",
       "      <td>0.700960</td>\n",
       "      <td>4</td>\n",
       "      <td>1</td>\n",
       "      <td>0.0</td>\n",
       "      <td>5026</td>\n",
       "    </tr>\n",
       "    <tr>\n",
       "      <th>2012-10-02 13:00:00</th>\n",
       "      <td>7</td>\n",
       "      <td>0.0</td>\n",
       "      <td>1</td>\n",
       "      <td>2</td>\n",
       "      <td>0</td>\n",
       "      <td>0.716107</td>\n",
       "      <td>4</td>\n",
       "      <td>1</td>\n",
       "      <td>0.0</td>\n",
       "      <td>4918</td>\n",
       "    </tr>\n",
       "  </tbody>\n",
       "</table>\n",
       "</div>"
      ],
      "text/plain": [
       "                     holiday  snow_1h  weather_main  weather_description  \\\n",
       "2012-10-02 09:00:00        7      0.0             1                   24   \n",
       "2012-10-02 10:00:00        7      0.0             1                    2   \n",
       "2012-10-02 11:00:00        7      0.0             1                   19   \n",
       "2012-10-02 12:00:00        7      0.0             1                   19   \n",
       "2012-10-02 13:00:00        7      0.0             1                    2   \n",
       "\n",
       "                     holiday_binary  temp_celsius  quarter  work_status  \\\n",
       "2012-10-02 09:00:00               0      0.673215        4            1   \n",
       "2012-10-02 10:00:00               0      0.689412        4            1   \n",
       "2012-10-02 11:00:00               0      0.692711        4            1   \n",
       "2012-10-02 12:00:00               0      0.700960        4            1   \n",
       "2012-10-02 13:00:00               0      0.716107        4            1   \n",
       "\n",
       "                     snow_1h_cumsum  traffic_volume  \n",
       "2012-10-02 09:00:00             0.0            5545  \n",
       "2012-10-02 10:00:00             0.0            4516  \n",
       "2012-10-02 11:00:00             0.0            4767  \n",
       "2012-10-02 12:00:00             0.0            5026  \n",
       "2012-10-02 13:00:00             0.0            4918  "
      ]
     },
     "execution_count": 13,
     "metadata": {},
     "output_type": "execute_result"
    }
   ],
   "source": [
    "df.head()"
   ]
  },
  {
   "cell_type": "markdown",
   "metadata": {},
   "source": [
    "Train, test and val set."
   ]
  },
  {
   "cell_type": "code",
   "execution_count": 18,
   "metadata": {},
   "outputs": [],
   "source": [
    "train_size = int(df.shape[0]*0.9)\n",
    "test_size = int(df.shape[0]*0.95)"
   ]
  },
  {
   "cell_type": "code",
   "execution_count": 19,
   "metadata": {},
   "outputs": [
    {
     "data": {
      "text/plain": [
       "(43374, 45784)"
      ]
     },
     "execution_count": 19,
     "metadata": {},
     "output_type": "execute_result"
    }
   ],
   "source": [
    "train_size, test_size"
   ]
  },
  {
   "cell_type": "code",
   "execution_count": 20,
   "metadata": {},
   "outputs": [],
   "source": [
    "X_train = df[:train_size].drop(\"traffic_volume\", axis=1)\n",
    "X_test = df[train_size:test_size].drop(\"traffic_volume\", axis=1)\n",
    "X_val = df[test_size:].drop(\"traffic_volume\", axis=1)\n",
    "\n",
    "y_train = df[:train_size][\"traffic_volume\"]\n",
    "y_test = df[train_size:test_size][\"traffic_volume\"]\n",
    "y_val = df[test_size:][\"traffic_volume\"]"
   ]
  },
  {
   "cell_type": "code",
   "execution_count": 21,
   "metadata": {},
   "outputs": [
    {
     "data": {
      "text/plain": [
       "((43374, 9), (2410, 9), (2410, 9))"
      ]
     },
     "execution_count": 21,
     "metadata": {},
     "output_type": "execute_result"
    }
   ],
   "source": [
    "X_train.shape, X_test.shape, X_val.shape"
   ]
  },
  {
   "cell_type": "markdown",
   "metadata": {},
   "source": [
    "**I wont implement hyperparameter optimization**"
   ]
  },
  {
   "cell_type": "markdown",
   "metadata": {},
   "source": [
    "Metrics "
   ]
  },
  {
   "cell_type": "code",
   "execution_count": 25,
   "metadata": {},
   "outputs": [],
   "source": [
    "from sklearn.metrics import r2_score, mean_absolute_error, mean_squared_error"
   ]
  },
  {
   "cell_type": "markdown",
   "metadata": {},
   "source": [
    "**LightGBM**"
   ]
  },
  {
   "cell_type": "code",
   "execution_count": 22,
   "metadata": {},
   "outputs": [],
   "source": [
    "import lightgbm"
   ]
  },
  {
   "cell_type": "code",
   "execution_count": 23,
   "metadata": {},
   "outputs": [],
   "source": [
    "model = lightgbm.LGBMRegressor()\n",
    "\n",
    "model.fit(X_train, y_train)"
   ]
  },
  {
   "cell_type": "code",
   "execution_count": 37,
   "metadata": {},
   "outputs": [
    {
     "name": "stdout",
     "output_type": "stream",
     "text": [
      "RMSE Score = 1584.688788669512\n",
      "R2 Score = -0.5874921007797598\n"
     ]
    }
   ],
   "source": [
    "preds = model.predict(X_test)\n",
    "rmse = np.sqrt(mean_squared_error(preds, y_test))\n",
    "r2 = r2_score(preds, y_test)\n",
    "print(f\"RMSE Score = {rmse}\\nR2 Score = {r2}\")"
   ]
  },
  {
   "cell_type": "code",
   "execution_count": 38,
   "metadata": {},
   "outputs": [
    {
     "name": "stdout",
     "output_type": "stream",
     "text": [
      "RMSE Score = 1536.2073004383358\n",
      "R2 Score = -0.6018307607461255\n"
     ]
    }
   ],
   "source": [
    "preds = model.predict(X_val)\n",
    "rmse = np.sqrt(mean_squared_error(preds, y_val))\n",
    "r2 = r2_score(preds, y_val)\n",
    "print(f\"RMSE Score = {rmse}\\nR2 Score = {r2}\")"
   ]
  },
  {
   "cell_type": "markdown",
   "metadata": {},
   "source": [
    "**I try using rolling.**"
   ]
  },
  {
   "cell_type": "code",
   "execution_count": 46,
   "metadata": {},
   "outputs": [],
   "source": [
    "df_new = df.drop(\"traffic_volume\", axis=1)[:-1].copy()"
   ]
  },
  {
   "cell_type": "code",
   "execution_count": 47,
   "metadata": {},
   "outputs": [],
   "source": [
    "df_new[\"traffic_volume\"] = np.roll(df[\"traffic_volume\"], shift=-1)[:-1]"
   ]
  },
  {
   "cell_type": "code",
   "execution_count": 49,
   "metadata": {},
   "outputs": [],
   "source": [
    "X_train_roll = df_new[:train_size].drop(\"traffic_volume\", axis=1)\n",
    "X_test_roll = df_new[train_size:test_size].drop(\"traffic_volume\", axis=1)\n",
    "X_val_roll = df_new[test_size:].drop(\"traffic_volume\", axis=1)\n",
    "\n",
    "y_train_roll = df_new[:train_size][\"traffic_volume\"]\n",
    "y_test_roll = df_new[train_size:test_size][\"traffic_volume\"]\n",
    "y_val_roll = df_new[test_size:][\"traffic_volume\"]"
   ]
  },
  {
   "cell_type": "code",
   "execution_count": 50,
   "metadata": {},
   "outputs": [
    {
     "data": {
      "text/plain": [
       "LGBMRegressor()"
      ]
     },
     "execution_count": 50,
     "metadata": {},
     "output_type": "execute_result"
    }
   ],
   "source": [
    "model = lightgbm.LGBMRegressor()\n",
    "\n",
    "model.fit(X_train_roll, y_train_roll)"
   ]
  },
  {
   "cell_type": "code",
   "execution_count": 51,
   "metadata": {},
   "outputs": [
    {
     "name": "stdout",
     "output_type": "stream",
     "text": [
      "RMSE Score = 1591.285650129939\n",
      "R2 Score = -0.5958046499869842\n"
     ]
    }
   ],
   "source": [
    "preds = model.predict(X_test_roll)\n",
    "rmse = np.sqrt(mean_squared_error(preds, y_test_roll))\n",
    "r2 = r2_score(preds, y_test_roll)\n",
    "print(f\"RMSE Score = {rmse}\\nR2 Score = {r2}\")"
   ]
  },
  {
   "cell_type": "markdown",
   "metadata": {},
   "source": [
    "Rolling didn't work."
   ]
  },
  {
   "cell_type": "markdown",
   "metadata": {},
   "source": [
    "**SVM**"
   ]
  },
  {
   "cell_type": "code",
   "execution_count": 52,
   "metadata": {},
   "outputs": [],
   "source": [
    "from sklearn.svm import SVR"
   ]
  },
  {
   "cell_type": "code",
   "execution_count": 53,
   "metadata": {},
   "outputs": [
    {
     "data": {
      "text/plain": [
       "SVR()"
      ]
     },
     "execution_count": 53,
     "metadata": {},
     "output_type": "execute_result"
    }
   ],
   "source": [
    "model = SVR()\n",
    "model.fit(X_train, y_train)"
   ]
  },
  {
   "cell_type": "code",
   "execution_count": 54,
   "metadata": {},
   "outputs": [
    {
     "name": "stdout",
     "output_type": "stream",
     "text": [
      "RMSE Score = 1963.5619657907341\n",
      "R2 Score = -152.65724832583376\n"
     ]
    }
   ],
   "source": [
    "preds = model.predict(X_test)\n",
    "rmse = np.sqrt(mean_squared_error(preds, y_test))\n",
    "r2 = r2_score(preds, y_test)\n",
    "print(f\"RMSE Score = {rmse}\\nR2 Score = {r2}\")"
   ]
  },
  {
   "cell_type": "markdown",
   "metadata": {},
   "source": [
    "___"
   ]
  },
  {
   "cell_type": "markdown",
   "metadata": {},
   "source": [
    "**KNN**"
   ]
  },
  {
   "cell_type": "code",
   "execution_count": 58,
   "metadata": {},
   "outputs": [],
   "source": [
    "from sklearn.neighbors import KNeighborsRegressor"
   ]
  },
  {
   "cell_type": "code",
   "execution_count": 59,
   "metadata": {},
   "outputs": [],
   "source": [
    "model = KNeighborsRegressor()"
   ]
  },
  {
   "cell_type": "code",
   "execution_count": 60,
   "metadata": {},
   "outputs": [
    {
     "data": {
      "text/plain": [
       "KNeighborsRegressor()"
      ]
     },
     "execution_count": 60,
     "metadata": {},
     "output_type": "execute_result"
    }
   ],
   "source": [
    "model.fit(X_train, y_train)"
   ]
  },
  {
   "cell_type": "code",
   "execution_count": 61,
   "metadata": {},
   "outputs": [
    {
     "name": "stdout",
     "output_type": "stream",
     "text": [
      "RMSE Score = 1718.5220818412351\n",
      "R2 Score = -0.485130871706402\n"
     ]
    }
   ],
   "source": [
    "preds = model.predict(X_test)\n",
    "rmse = np.sqrt(mean_squared_error(preds, y_test))\n",
    "r2 = r2_score(preds, y_test)\n",
    "print(f\"RMSE Score = {rmse}\\nR2 Score = {r2}\")"
   ]
  },
  {
   "cell_type": "markdown",
   "metadata": {},
   "source": [
    "___"
   ]
  },
  {
   "cell_type": "markdown",
   "metadata": {},
   "source": [
    "**Prophet Multivariate**"
   ]
  },
  {
   "cell_type": "code",
   "execution_count": 69,
   "metadata": {},
   "outputs": [],
   "source": [
    "from fbprophet import Prophet"
   ]
  },
  {
   "cell_type": "markdown",
   "metadata": {},
   "source": [
    "**Ready dataframe for prophet**"
   ]
  },
  {
   "cell_type": "code",
   "execution_count": 71,
   "metadata": {},
   "outputs": [],
   "source": [
    "X_train_prophet = X_train.copy()\n",
    "X_test_prophet = X_test.copy()\n",
    "\n",
    "y_train_prophet = y_train.copy()\n",
    "y_test_prophet = y_test.copy()"
   ]
  },
  {
   "cell_type": "code",
   "execution_count": 73,
   "metadata": {},
   "outputs": [],
   "source": [
    "X_train_prophet[\"ds\"] = X_train_prophet.index\n",
    "X_train_prophet[\"y\"] = y_train_prophet.values\n",
    "\n",
    "X_test_prophet[\"ds\"] = X_test_prophet.index\n",
    "X_test_prophet[\"y\"] = y_test_prophet.values"
   ]
  },
  {
   "cell_type": "code",
   "execution_count": 75,
   "metadata": {},
   "outputs": [],
   "source": [
    "prophet = Prophet()"
   ]
  },
  {
   "cell_type": "code",
   "execution_count": 76,
   "metadata": {},
   "outputs": [],
   "source": [
    "for col in X_train_prophet.columns:\n",
    "    if col not in [\"ds\", \"y\"]:\n",
    "        prophet.add_regressor(col)"
   ]
  },
  {
   "cell_type": "code",
   "execution_count": 77,
   "metadata": {},
   "outputs": [
    {
     "name": "stderr",
     "output_type": "stream",
     "text": [
      "/home/ubuntu/.local/lib/python3.8/site-packages/fbprophet/forecaster.py:891: FutureWarning: The frame.append method is deprecated and will be removed from pandas in a future version. Use pandas.concat instead.\n",
      "  components = components.append(new_comp)\n",
      "/home/ubuntu/.local/lib/python3.8/site-packages/fbprophet/forecaster.py:891: FutureWarning: The frame.append method is deprecated and will be removed from pandas in a future version. Use pandas.concat instead.\n",
      "  components = components.append(new_comp)\n",
      "/home/ubuntu/.local/lib/python3.8/site-packages/fbprophet/forecaster.py:891: FutureWarning: The frame.append method is deprecated and will be removed from pandas in a future version. Use pandas.concat instead.\n",
      "  components = components.append(new_comp)\n"
     ]
    }
   ],
   "source": [
    "prophet.fit(X_train_prophet)\n",
    "yhat = prophet.predict(X_test_prophet)"
   ]
  },
  {
   "cell_type": "code",
   "execution_count": 86,
   "metadata": {
    "scrolled": true
   },
   "outputs": [
    {
     "name": "stdout",
     "output_type": "stream",
     "text": [
      "RMSE Score = 839.7476260272554\n",
      "R2 Score = 0.7739608294853647\n"
     ]
    }
   ],
   "source": [
    "rmse = np.sqrt(mean_squared_error(yhat.yhat, y_test))\n",
    "r2 = r2_score(yhat.yhat, y_test)\n",
    "\n",
    "print(f\"RMSE Score = {rmse}\\nR2 Score = {r2}\")"
   ]
  },
  {
   "cell_type": "markdown",
   "metadata": {},
   "source": [
    "___"
   ]
  },
  {
   "cell_type": "markdown",
   "metadata": {},
   "source": [
    "**Deep Learning**\n",
    "\n",
    "- LSTM"
   ]
  },
  {
   "cell_type": "code",
   "execution_count": 88,
   "metadata": {},
   "outputs": [],
   "source": [
    "import tensorflow as tf"
   ]
  },
  {
   "cell_type": "code",
   "execution_count": 108,
   "metadata": {},
   "outputs": [
    {
     "name": "stdout",
     "output_type": "stream",
     "text": [
      "Test set equal: True\n"
     ]
    }
   ],
   "source": [
    "BATCH_SIZE = 64\n",
    "BUFFER_SIZE = 100\n",
    "WINDOW_LENGTH = 24\n",
    "\n",
    "def window_data(X, Y, window=7):\n",
    "    '''\n",
    "    The dataset length will be reduced to guarante all samples have the window, \n",
    "    so new length will be len(dataset)-window\n",
    "    '''\n",
    "    x = []\n",
    "    y = []\n",
    "    for i in range(window-1, len(X)):\n",
    "        x.append(X[i-window+1:i+1])\n",
    "        y.append(Y[i])\n",
    "    return np.array(x), np.array(y)\n",
    "\n",
    "\n",
    "# Since we are doing sliding, we need to join the datasets again of train and test\n",
    "X_w = np.concatenate((X_train, X_test))\n",
    "y_w = np.concatenate((y_train, y_test))\n",
    "\n",
    "X_w, y_w = window_data(X_w, y_w, window=WINDOW_LENGTH)\n",
    "X_train_w = X_w[:-len(X_test)]\n",
    "y_train_w = y_w[:-len(X_test)]\n",
    "X_test_w = X_w[-len(X_test):]\n",
    "y_test_w = y_w[-len(X_test):]\n",
    "\n",
    "# Check we will have same test set as in the previous models, make sure we didnt screw up on the windowing\n",
    "print(f\"Test set equal: {np.array_equal(y_test_w,y_test)}\")\n",
    "\n",
    "train_data = tf.data.Dataset.from_tensor_slices((X_train_w, y_train_w))\n",
    "train_data = train_data.cache().shuffle(BUFFER_SIZE).batch(BATCH_SIZE).repeat()\n",
    "\n",
    "val_data = tf.data.Dataset.from_tensor_slices((X_test_w, y_test_w))\n",
    "val_data = val_data.batch(BATCH_SIZE).repeat()"
   ]
  },
  {
   "cell_type": "code",
   "execution_count": 109,
   "metadata": {},
   "outputs": [],
   "source": [
    "dropout = 0.0\n",
    "model = tf.keras.models.Sequential([\n",
    "    tf.keras.layers.LSTM(\n",
    "        128, input_shape=X_train_w.shape[-2:], dropout=dropout),\n",
    "    tf.keras.layers.Dense(128),\n",
    "    tf.keras.layers.Dense(128),\n",
    "    tf.keras.layers.Dense(1)\n",
    "])\n",
    "\n",
    "model.compile(optimizer='rmsprop', loss='mae')\n"
   ]
  },
  {
   "cell_type": "code",
   "execution_count": 110,
   "metadata": {
    "scrolled": true
   },
   "outputs": [
    {
     "name": "stdout",
     "output_type": "stream",
     "text": [
      "Epoch 1/15\n",
      "200/200 [==============================] - 7s 27ms/step - loss: 1942.5950 - val_loss: 1595.4778\n",
      "Epoch 2/15\n",
      "200/200 [==============================] - 5s 25ms/step - loss: 1164.0195 - val_loss: 1025.5271\n",
      "Epoch 3/15\n",
      "200/200 [==============================] - 5s 25ms/step - loss: 933.5542 - val_loss: 892.5765\n",
      "Epoch 4/15\n",
      "200/200 [==============================] - 5s 25ms/step - loss: 955.3276 - val_loss: 936.5294\n",
      "Epoch 5/15\n",
      "200/200 [==============================] - 5s 25ms/step - loss: 947.6484 - val_loss: 1590.5681\n",
      "Epoch 6/15\n",
      "200/200 [==============================] - 5s 24ms/step - loss: 893.2417 - val_loss: 866.5024\n",
      "Epoch 7/15\n",
      "200/200 [==============================] - 5s 25ms/step - loss: 860.9034 - val_loss: 980.4658\n",
      "Epoch 8/15\n",
      "200/200 [==============================] - 5s 25ms/step - loss: 887.5732 - val_loss: 825.1120\n",
      "Epoch 9/15\n",
      "200/200 [==============================] - 5s 25ms/step - loss: 871.7615 - val_loss: 1095.9452\n",
      "Epoch 10/15\n",
      "200/200 [==============================] - 5s 25ms/step - loss: 820.1949 - val_loss: 813.7598\n",
      "Epoch 11/15\n",
      "200/200 [==============================] - 5s 25ms/step - loss: 872.7570 - val_loss: 848.2432\n",
      "Epoch 12/15\n",
      "200/200 [==============================] - 5s 25ms/step - loss: 857.7698 - val_loss: 779.5163\n",
      "Epoch 13/15\n",
      "200/200 [==============================] - 5s 25ms/step - loss: 756.8430 - val_loss: 908.0333\n",
      "Epoch 14/15\n",
      "200/200 [==============================] - 5s 25ms/step - loss: 818.0908 - val_loss: 755.6482\n",
      "Epoch 15/15\n",
      "200/200 [==============================] - 5s 24ms/step - loss: 811.8469 - val_loss: 753.9793\n"
     ]
    }
   ],
   "source": [
    "EVALUATION_INTERVAL = 200\n",
    "EPOCHS = 15\n",
    "\n",
    "model_history = model.fit(train_data, epochs=EPOCHS,\n",
    "                                      steps_per_epoch=EVALUATION_INTERVAL,\n",
    "                                      validation_data=val_data, validation_steps=50)  # ,callbacks=[tensorboard_callback]) #Uncomment this line for tensorboard support"
   ]
  },
  {
   "cell_type": "code",
   "execution_count": 111,
   "metadata": {
    "scrolled": true
   },
   "outputs": [
    {
     "name": "stdout",
     "output_type": "stream",
     "text": [
      "RMSE Score = 1190.0669022168363\n",
      "R2 Score = 0.5992078529329388\n"
     ]
    }
   ],
   "source": [
    "preds = model.predict(X_test_w).reshape(1, -1)[0]\n",
    "rmse = np.sqrt(mean_squared_error(preds, y_test))\n",
    "r2 = r2_score(preds, y_test)\n",
    "print(f\"RMSE Score = {rmse}\\nR2 Score = {r2}\")"
   ]
  },
  {
   "cell_type": "markdown",
   "metadata": {},
   "source": [
    "**Vector AutoRegression (VAR)**\n",
    "\n",
    "- https://www.analyticsvidhya.com/blog/2018/09/multivariate-time-series-guide-forecasting-modeling-python-codes/"
   ]
  },
  {
   "cell_type": "code",
   "execution_count": 112,
   "metadata": {},
   "outputs": [],
   "source": [
    "from statsmodels.tsa.vector_ar.var_model import VAR"
   ]
  },
  {
   "cell_type": "code",
   "execution_count": 117,
   "metadata": {},
   "outputs": [
    {
     "name": "stderr",
     "output_type": "stream",
     "text": [
      "/home/ubuntu/.local/lib/python3.8/site-packages/statsmodels/tsa/base/tsa_model.py:471: ValueWarning: A date index has been provided, but it has no associated frequency information and so will be ignored when e.g. forecasting.\n",
      "  self._init_dates(dates, freq)\n"
     ]
    }
   ],
   "source": [
    "model = VAR(X_train)\n",
    "model_fit = model.fit()"
   ]
  },
  {
   "cell_type": "code",
   "execution_count": 124,
   "metadata": {},
   "outputs": [],
   "source": [
    "preds = model.predict(model_fit.params, end=len(X_test))"
   ]
  },
  {
   "cell_type": "code",
   "execution_count": 131,
   "metadata": {},
   "outputs": [],
   "source": [
    "preds_df = pd.DataFrame(preds, columns=X_train.columns)"
   ]
  },
  {
   "cell_type": "code",
   "execution_count": 159,
   "metadata": {
    "scrolled": false
   },
   "outputs": [
    {
     "data": {
      "image/png": "[encoded data removed]",
      "text/plain": [
       "<Figure size 1080x432 with 1 Axes>"
      ]
     },
     "metadata": {
      "needs_background": "light"
     },
     "output_type": "display_data"
    }
   ],
   "source": [
    "test_temporary = pd.Series(X_test[\"temp_celsius\"].values, range(len(X_train),len(X_train)+len(X_test)))\n",
    "pred_temporary = pd.Series(preds_df[\"temp_celsius\"].values, range(len(X_train),len(X_train)+len(X_test)))\n",
    "\n",
    "plt.figure(figsize=(15,6))\n",
    "plt.plot(X_train[\"temp_celsius\"].values, label=\"Train\")\n",
    "plt.plot(test_temporary, label=\"Real\",marker=\".\", alpha=0.8)\n",
    "plt.plot(pred_temporary, label=\"Predicted\", marker=\"o\", alpha=0.8)\n",
    "plt.legend()\n",
    "plt.show()"
   ]
  },
  {
   "cell_type": "code",
   "execution_count": null,
   "metadata": {},
   "outputs": [],
   "source": []
  }
 ],
 "metadata": {
  "kernelspec": {
   "display_name": "Python 3",
   "language": "python",
   "name": "python3"
  },
  "language_info": {
   "codemirror_mode": {
    "name": "ipython",
    "version": 3
   },
   "file_extension": ".py",
   "mimetype": "text/x-python",
   "name": "python",
   "nbconvert_exporter": "python",
   "pygments_lexer": "ipython3",
   "version": "3.8.10"
  }
 },
 "nbformat": 4,
 "nbformat_minor": 4
}
